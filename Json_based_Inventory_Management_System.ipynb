{
  "nbformat": 4,
  "nbformat_minor": 0,
  "metadata": {
    "colab": {
      "name": "Json based Inventory Management System.ipynb",
      "provenance": []
    },
    "kernelspec": {
      "name": "python3",
      "display_name": "Python 3"
    },
    "language_info": {
      "name": "python"
    }
  },
  "cells": [
    {
      "cell_type": "markdown",
      "metadata": {
        "id": "kwiYC95Z1fYN"
      },
      "source": [
        "***READING FROM INVENTORY***"
      ]
    },
    {
      "cell_type": "code",
      "metadata": {
        "id": "JyNHMmHizLyL"
      },
      "source": [
        "import json \n",
        "import time\n",
        "import sys\n",
        "import datetime\n",
        "\n",
        "fd = open(\"rec.json\",'r')\n",
        "r = fd.read()\n",
        "fd.close()\n",
        "\n",
        "record = json.loads(r)\n",
        "sales={}\n",
        "count=0\n",
        "sum=0"
      ],
      "execution_count": 1,
      "outputs": []
    },
    {
      "cell_type": "markdown",
      "metadata": {
        "id": "pyW7wb022ciI"
      },
      "source": [
        "###**PRODUCT LISTING**"
      ]
    },
    {
      "cell_type": "code",
      "metadata": {
        "colab": {
          "base_uri": "https://localhost:8080/"
        },
        "id": "XNIf9Ves2pOD",
        "outputId": "11a46454-1f2c-43fa-a32b-2a4186f8e142"
      },
      "source": [
        "print(\"****Welcome To Skylar Stores****\\n\")\n",
        "print(\"Available products in our store:\")\n",
        "now = datetime.datetime.now()\n",
        "\n",
        "for id in record.keys():\n",
        "  print(id,\":\",record[id][\"Name\"],\"Price\",\":\",\"rs.\",record[id]['Price'],\"Calories\",\":\",record[id]['Calories'],\"Protein\",\":\",record[id]['Protein'])\n",
        "  "
      ],
      "execution_count": 2,
      "outputs": [
        {
          "output_type": "stream",
          "name": "stdout",
          "text": [
            "****Welcome To Skylar Stores****\n",
            "\n",
            "Available products in our store:\n",
            "101 : Chocolate Cake Price : rs. 350 Calories : 15 Protein : 10\n",
            "102 : Red Lays Price : rs. 10 Calories : 27 Protein : 5\n",
            "103 : Pringles Price : rs. 25 Calories : 27 Protein : 5\n",
            "104 : Cheetos Price : rs. 15 Calories : 27 Protein : 5\n",
            "105 : Barfi Price : rs. 15 Calories : 10 Protein : 100\n",
            "106 : Peanut Butter Price : rs. 378 Calories : 150 Protein : 300\n",
            "107 : Nutella Price : rs. 500 Calories : 150 Protein : 10\n",
            "108 : Amul Butter Price : rs. 45 Calories : 30 Protein : 160\n",
            "109 : Aavin Milk Price : rs. 22 Calories : 10 Protein : 100\n",
            "110 : Tata Salt Price : rs. 20 Calories : 148 Protein : 269\n",
            "111 : Sugar Price : rs. 50 Calories : 350 Protein : 150\n",
            "112 : Olive Oil Price : rs. 399 Calories : 8 Protein : 150\n",
            "113 : Diary Milk Chocolate Price : rs. 15 Calories : 69 Protein : 10\n",
            "114 : Munch Chocolate Price : rs. 15 Calories : 69 Protein : 10\n",
            "115 : 5 Star Chocolate Price : rs. 5 Calories : 69 Protein : 10\n",
            "116 : Snickers Chocolate Price : rs. 38 Calories : 69 Protein : 10\n",
            "117 : Mars Chocolate Price : rs. 40 Calories : 69 Protein : 10\n",
            "118 : Kurkure Chips Price : rs. 10 Calories : 15 Protein : 10\n",
            "119 : Potato Chips Price : rs. 30 Calories : 15 Protein : 10\n",
            "120 : Chocolate Soy Milk Price : rs. 150 Calories : 15 Protein : 10\n",
            "121 : Pista Soy Milk Price : rs. 160 Calories : 5 Protein : 350\n",
            "122 : Tea Price : rs. 28 Calories : 15 Protein : 10\n",
            "123 : Coffee Price : rs. 35 Calories : 15 Protein : 10\n",
            "124 : Hot Chocolate Mix Price : rs. 38 Calories : 75 Protein : 15\n",
            "125 : Masala Powder Price : rs. 18 Calories : 15 Protein : 10\n",
            "126 : Oreo Biscuits Price : rs. 30 Calories : 79 Protein : 21\n",
            "127 : Milk Biscuits Price : rs. 5 Calories : 79 Protein : 21\n",
            "128 : Marie Gold Biscuits Price : rs. 10 Calories : 79 Protein : 21\n",
            "129 : Eggs Price : rs. 22 Calories : 5 Protein : 500\n",
            "130 : Vanilla Icecream Price : rs. 110 Calories : 150 Protein : 10\n",
            "131 : Chocolate Icecream Price : rs. 120 Calories : 190 Protein : 10\n",
            "132 : Pepper Price : rs. 35 Calories : 6 Protein : 17\n",
            "133 : Noodles Price : rs. 42 Calories : 70 Protein : 10\n",
            "134 : Chocolate Donut Price : rs. 38 Calories : 450 Protein : 10\n",
            "135 : Coca Cola Price : rs. 50 Calories : 101 Protein : 39\n"
          ]
        }
      ]
    },
    {
      "cell_type": "markdown",
      "metadata": {
        "id": "QNONb48D2vn8"
      },
      "source": [
        "##***PURCHASE BEGINS***"
      ]
    },
    {
      "cell_type": "code",
      "metadata": {
        "colab": {
          "base_uri": "https://localhost:8080/"
        },
        "id": "bOTreHX921Hx",
        "outputId": "76db6b87-0cea-415f-92ab-fab2348b0b70"
      },
      "source": [
        "print(\"\\n####Let's Begin Your Purchase For Today####\")\n",
        "ui_prod  = str(input(\"\\nEnter the product_Id: \"))\n",
        "ui_quant = int(input(\"Enter the quantity: \"))\n",
        "#checks if quantity is within range\n",
        "if(ui_quant > record[ui_prod]['Quantity']):\n",
        "  print(\"Enter a lesser quantity \")\n",
        "  ui_quant = int(input(\"Enter the quantity: \"))\n",
        "\n",
        "print(\"-----------------------------------\")\n",
        "print(\"******SKYLAR STORES******\")\n",
        "print(\"***BILL FOR PURCHASING***\")\n",
        "print(\"Product Name: \", record[ui_prod][\"Name\"])\n",
        "print(\"Price: \",record[ui_prod]['Price'])\n",
        "print(\"Quant: \",ui_quant)\n",
        "\n",
        "#Eligiblity for discount\n",
        "if(ui_quant > 7):\n",
        "   discount_percentage = 5;\n",
        "   discount_amount = 0;\n",
        "   discounted_price = 0;\n",
        "   total_amt =0;\n",
        "   discount_amount = (discount_percentage* record[ui_prod]['Price'])/100;\n",
        "   discounted_price = (record[ui_prod]['Price']-discount_amount);\n",
        "   total_amt =(record[ui_prod]['Price'] -discount_amount)*ui_quant\n",
        "   print(\"Congrats you are eligible for Discount\")\n",
        "   print(\"Discount Amount: \", discount_amount);\n",
        "   print(\"Discounted Price: \", discounted_price);\n",
        "   print(\"Your Total amount: \",record[ui_prod]['Price']*ui_quant)\n",
        "   print(\"Your Final Amount To Pay: \", total_amt)\n",
        "   pass\n",
        "else:\n",
        "  discount_amount = 0\n",
        "  total_amt =(record[ui_prod]['Price'] -discount_amount)*ui_quant\n",
        "  print(\"Your Total amount: \",total_amt)\n",
        "  \n",
        "print(\"Product gets expired in: \",record[ui_prod]['Exp'],\"days\")\n",
        "print(\"-----------------------------------\")\n",
        "print (\"Current purchase date and time : \")\n",
        "print (now.strftime(\"%Y-%m-%d %H:%M:%S\"))\n",
        "print(\"**********THANK YOU FOR COMING*************\")\n",
        "print(\"***PLEASE VISIT US AGAIN AND HAVE A NICE DAY!***\")\n",
        "\n",
        "record[ui_prod]['Quantity'] = record[ui_prod]['Quantity'] - ui_quant"
      ],
      "execution_count": 11,
      "outputs": [
        {
          "output_type": "stream",
          "name": "stdout",
          "text": [
            "\n",
            "####Let's Begin Your Purchase For Today####\n",
            "\n",
            "Enter the product_Id: 111\n",
            "Enter the quantity: 1\n",
            "-----------------------------------\n",
            "******SKYLAR STORES******\n",
            "***BILL FOR PURCHASING***\n",
            "Product Name:  Sugar\n",
            "Price:  50\n",
            "Quant:  1\n",
            "Your Total amount:  50\n",
            "Product gets expired in:  100 days\n",
            "-----------------------------------\n",
            "Current purchase date and time : \n",
            "2021-09-06 11:34:10\n",
            "**********THANK YOU FOR COMING*************\n",
            "***PLEASE VISIT US AGAIN AND HAVE A NICE DAY!***\n"
          ]
        }
      ]
    },
    {
      "cell_type": "markdown",
      "metadata": {
        "id": "ofu1KAWm3ZzE"
      },
      "source": [
        "***UPDATE INVENTORY***"
      ]
    },
    {
      "cell_type": "code",
      "metadata": {
        "id": "ztHpISli3gJs"
      },
      "source": [
        "js = json.dumps(record)\n",
        "\n",
        "fd = open(\"rec.json\",'w')\n",
        "fd.write(js)\n",
        "fd.close()"
      ],
      "execution_count": 9,
      "outputs": []
    },
    {
      "cell_type": "markdown",
      "metadata": {
        "id": "Om2HnMiM3j2Q"
      },
      "source": [
        "***ADD NEW ITEM TO THE INVENTORY***"
      ]
    },
    {
      "cell_type": "code",
      "metadata": {
        "colab": {
          "base_uri": "https://localhost:8080/"
        },
        "id": "8pkM2hCl3qor",
        "outputId": "9da56727-1b01-4feb-925b-6431ad1e1a3c"
      },
      "source": [
        "prod_id = str(input(\"Enter product id:\"))\n",
        "Name = str(input(\"Enter name:\"))\n",
        "Price = int(input(\"Enter price:\"))\n",
        "Quantity = int(input(\"Enter Quantity:\"))\n",
        "Exp = int(input(\"Enter Expiry Days of Product:\"))\n",
        "Calories = int(input(\"Enter the Calories:\"))\n",
        "Protein = int(input(\"Enter the Protein in Product:\"))\n",
        "\n",
        "record[prod_id] = {'Name': Name, 'Price': Price, 'Quantity': Quantity,'Exp':Exp,'Calories':Calories,'Protein':Protein}\n",
        "\n",
        "js = json.dumps(record)\n",
        "\n",
        "fd = open(\"rec.json\",'w')\n",
        "fd.write(js)\n",
        "fd.close()"
      ],
      "execution_count": 5,
      "outputs": [
        {
          "name": "stdout",
          "output_type": "stream",
          "text": [
            "Enter product id:136\n",
            "Enter name:CORN\n",
            "Enter price:100\n",
            "Enter Quantity:20\n",
            "Enter Expiry Days of Product:1\n",
            "Enter the Calories:320\n",
            "Enter the Protein in Product:10\n"
          ]
        }
      ]
    },
    {
      "cell_type": "markdown",
      "metadata": {
        "id": "28Jx5H1V4N9P"
      },
      "source": [
        "***TO DELETE AN ITEM FROM INVENTORY***"
      ]
    },
    {
      "cell_type": "code",
      "metadata": {
        "colab": {
          "base_uri": "https://localhost:8080/"
        },
        "id": "BokoMkFS4Tce",
        "outputId": "00d8a47b-c420-4ae5-cbc0-d5539a030273"
      },
      "source": [
        "porduct_id=input(\"Enter the product ID to be deleted from the inventory: \")\n",
        "if porduct_id in record.keys():\n",
        "  del record[porduct_id]\n",
        "  print(\"The product has been successfully deleted from the inventory!\")\n",
        "else:\n",
        "  print(\"There is no such product ID in the inventory!.Please enter a valid ID\")  \n",
        "\n",
        "\n",
        "js=json.dumps(record)\n",
        "fd=open(\"rec.json\",'w')\n",
        "fd.write(js)\n",
        "fd.close()\n"
      ],
      "execution_count": 6,
      "outputs": [
        {
          "output_type": "stream",
          "name": "stdout",
          "text": [
            "Enter the product ID to be deleted from the inventory: 136\n",
            "The product has been successfully deleted from the inventory!\n"
          ]
        }
      ]
    },
    {
      "cell_type": "markdown",
      "metadata": {
        "id": "6XKeytSW4Wvc"
      },
      "source": [
        "##**SALES**"
      ]
    },
    {
      "cell_type": "code",
      "metadata": {
        "id": "xch_Y-c74Wds"
      },
      "source": [
        "count +=1\n",
        "\n",
        "sales[count]={\"Prod_Name\":record[ui_prod][\"Name\"],\"MRP\":record[ui_prod][\"Price\"],\"Quantities_Sold\":ui_quant,\"Discount_amount\":discount_amount,\"Total_amt\":record[ui_prod][\"Price\"] * ui_quant,\"Net_Total\":total_amt}\n",
        "\n",
        "\n",
        "js=json.dumps(sales)\n",
        "\n",
        "fd=open(\"sales.json\",'w')\n",
        "fd.write(js)\n",
        "fd.close()"
      ],
      "execution_count": 10,
      "outputs": []
    },
    {
      "cell_type": "markdown",
      "metadata": {
        "id": "4fo2AZC6JbCy"
      },
      "source": [
        "TO CHECK INVENTORY"
      ]
    },
    {
      "cell_type": "code",
      "metadata": {
        "colab": {
          "base_uri": "https://localhost:8080/"
        },
        "id": "7WF0TAGJJhrK",
        "outputId": "17f9c3db-d80f-4a90-9697-8b13b8db2975"
      },
      "source": [
        "for id in record.keys():\n",
        "  print(id,\":\",record[id][\"Name\"],\"Price\",\":\",\"rs.\",record[id]['Price'],\"Quantity_Remaining\",\":\",record[id]['Quantity'])"
      ],
      "execution_count": 14,
      "outputs": [
        {
          "output_type": "stream",
          "name": "stdout",
          "text": [
            "101 : Chocolate Cake Price : rs. 350 Quantity_Remaining : 40\n",
            "102 : Red Lays Price : rs. 10 Quantity_Remaining : 100\n",
            "103 : Pringles Price : rs. 25 Quantity_Remaining : 100\n",
            "104 : Cheetos Price : rs. 15 Quantity_Remaining : 100\n",
            "105 : Barfi Price : rs. 15 Quantity_Remaining : 250\n",
            "106 : Peanut Butter Price : rs. 378 Quantity_Remaining : 700\n",
            "107 : Nutella Price : rs. 500 Quantity_Remaining : 500\n",
            "108 : Amul Butter Price : rs. 45 Quantity_Remaining : 150\n",
            "109 : Aavin Milk Price : rs. 22 Quantity_Remaining : 100\n",
            "110 : Tata Salt Price : rs. 20 Quantity_Remaining : 300\n",
            "111 : Sugar Price : rs. 50 Quantity_Remaining : 288\n",
            "112 : Olive Oil Price : rs. 399 Quantity_Remaining : 400\n",
            "113 : Diary Milk Chocolate Price : rs. 15 Quantity_Remaining : 217\n",
            "114 : Munch Chocolate Price : rs. 15 Quantity_Remaining : 150\n",
            "115 : 5 Star Chocolate Price : rs. 5 Quantity_Remaining : 100\n",
            "116 : Snickers Chocolate Price : rs. 38 Quantity_Remaining : 129\n",
            "117 : Mars Chocolate Price : rs. 40 Quantity_Remaining : 50\n",
            "118 : Kurkure Chips Price : rs. 10 Quantity_Remaining : 5\n",
            "119 : Potato Chips Price : rs. 30 Quantity_Remaining : 10\n",
            "120 : Chocolate Soy Milk Price : rs. 150 Quantity_Remaining : 167\n",
            "121 : Pista Soy Milk Price : rs. 160 Quantity_Remaining : 170\n",
            "122 : Tea Price : rs. 28 Quantity_Remaining : 15\n",
            "123 : Coffee Price : rs. 35 Quantity_Remaining : 10\n",
            "124 : Hot Chocolate Mix Price : rs. 38 Quantity_Remaining : 5\n",
            "125 : Masala Powder Price : rs. 18 Quantity_Remaining : 10\n",
            "126 : Oreo Biscuits Price : rs. 30 Quantity_Remaining : 30\n",
            "127 : Milk Biscuits Price : rs. 5 Quantity_Remaining : 40\n",
            "128 : Marie Gold Biscuits Price : rs. 10 Quantity_Remaining : 45\n",
            "129 : Eggs Price : rs. 22 Quantity_Remaining : 100\n",
            "130 : Vanilla Icecream Price : rs. 110 Quantity_Remaining : 15\n",
            "131 : Chocolate Icecream Price : rs. 120 Quantity_Remaining : 10\n",
            "132 : Pepper Price : rs. 35 Quantity_Remaining : 100\n",
            "133 : Noodles Price : rs. 42 Quantity_Remaining : 150\n",
            "134 : Chocolate Donut Price : rs. 38 Quantity_Remaining : 25\n",
            "135 : Coca Cola Price : rs. 50 Quantity_Remaining : 150\n"
          ]
        }
      ]
    }
  ]
}